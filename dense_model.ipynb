{
  "nbformat": 4,
  "nbformat_minor": 0,
  "metadata": {
    "colab": {
      "name": "dense_model.ipynb",
      "provenance": [],
      "collapsed_sections": [],
      "toc_visible": true
    },
    "kernelspec": {
      "name": "python3",
      "display_name": "Python 3"
    },
    "accelerator": "GPU"
  },
  "cells": [
    {
      "cell_type": "markdown",
      "metadata": {
        "id": "lzaOdPsvSlYQ",
        "colab_type": "text"
      },
      "source": [
        "# **Imports**"
      ]
    },
    {
      "cell_type": "code",
      "metadata": {
        "id": "vW93_ytfAjK-",
        "colab_type": "code",
        "colab": {
          "base_uri": "https://localhost:8080/",
          "height": 106
        },
        "outputId": "1437d1fa-ff8a-45aa-c2a4-7a87fb641405"
      },
      "source": [
        "import pandas as pd\n",
        "import numpy as np\n",
        "import scipy\n",
        "import cv2\n",
        "import os\n",
        "from google.colab import drive\n",
        "import matplotlib.pyplot as plt\n",
        "import matplotlib.image as mpimg\n",
        "import torch\n",
        "import torchvision\n",
        "import tensorflow.compat.v1 as tf\n",
        "tf.disable_v2_behavior()\n",
        "from PIL import Image, ImageDraw\n",
        "import sklearn\n",
        "from sklearn.metrics import roc_auc_score, roc_curve, auc\n",
        "from tqdm import tqdm\n",
        "import keras\n",
        "import importlib\n",
        "from keras.layers import Input\n",
        "from keras.layers.core import Dense\n",
        "from keras.models import Model\n",
        "from keras.applications.inception_v3 import InceptionV3\n",
        "from keras.preprocessing.image import ImageDataGenerator\n",
        "from keras.models import Sequential\n",
        "from keras.layers import Conv2D, MaxPool2D, Dense, Flatten, GlobalAveragePooling2D, Dropout, BatchNormalization\n",
        "\n",
        "drive.mount('/content/drive')"
      ],
      "execution_count": null,
      "outputs": [
        {
          "output_type": "stream",
          "text": [
            "WARNING:tensorflow:From /usr/local/lib/python3.6/dist-packages/tensorflow/python/compat/v2_compat.py:96: disable_resource_variables (from tensorflow.python.ops.variable_scope) is deprecated and will be removed in a future version.\n",
            "Instructions for updating:\n",
            "non-resource variables are not supported in the long term\n",
            "Drive already mounted at /content/drive; to attempt to forcibly remount, call drive.mount(\"/content/drive\", force_remount=True).\n"
          ],
          "name": "stdout"
        }
      ]
    },
    {
      "cell_type": "code",
      "metadata": {
        "id": "3RAW6AfePqZa",
        "colab_type": "code",
        "colab": {}
      },
      "source": [
        "def load_and_prep(pickle_dir,\n",
        "                  x_column='features',\n",
        "                  y_column='label'):\n",
        "  df = pd.read_pickle(pickle_dir)\n",
        "  df = df.dropna(subset=[x_column, 'image'])\n",
        "  print(f'Dataset at {pickle_dir} has {len(df)} instances.')\n",
        "  ys = df[y_column].replace({'without objects': 1, 'with objects': 0}).values\n",
        "  xs = np.vstack(df[x_column])\n",
        "  return xs, ys"
      ],
      "execution_count": null,
      "outputs": []
    },
    {
      "cell_type": "code",
      "metadata": {
        "id": "iIKAST4Szr46",
        "colab_type": "code",
        "colab": {}
      },
      "source": [
        "def load_and_prep_train(pickle_dirs,\n",
        "                        x_column='features',\n",
        "                        y_column='label'):\n",
        "  xss, yss = [], []\n",
        "  for pickle_dir in pickle_dirs:\n",
        "    xs, ys = load_and_prep(pickle_dir, x_column, y_column)\n",
        "    xss.append(xs)\n",
        "    yss.append(ys)\n",
        "  return np.vstack(xss), np.hstack(yss)"
      ],
      "execution_count": null,
      "outputs": []
    },
    {
      "cell_type": "code",
      "metadata": {
        "id": "Y4SxUj2msJ6V",
        "colab_type": "code",
        "colab": {
          "base_uri": "https://localhost:8080/",
          "height": 639
        },
        "outputId": "71020226-6870-4cb9-f2ee-5b9a34810595"
      },
      "source": [
        "data_dir = '/content/drive/My Drive/data_Yonathan/'\n",
        "# train_csv_dir = data_dir + 'post_process_train_csv.csv'\n",
        "# validation_csv_dir = data_dir + 'post_process_validation_csv.csv'\n",
        "output_layer_name = 'conv5_block11_concat'\n",
        "partial_pickle_dirs = [f'train_{i}k' for i in range(8)]\n",
        "                    + [f'train_{i}k - hflip' for i in range(8)]\n",
        "                    + [f'train_{i}k - rot15&flip' for i in range(8)]\n",
        "                    + [f'train_{i}k - rot-15' for i in range(8)]\n",
        "                    + ['validation_0k', 'validation_0k - hflip', 'validation_0k - rot-15', 'validation_0k - rot15&flip']\n",
        "#partial_pickle_dirs = partial_pickle_dirs[:2] #only 2   ## [f'train_{i}k - rot-15&flip' for i in range(8)] + [f'train_{i}k - rot15' for i in range(8)] + ___________ valid;  'validation_0k - rot-15&flip' ,'validation_0k - rot15' ,\n",
        "pickle_dirs = [data_dir + partial_pickle_dir for partial_pickle_dir in partial_pickle_dirs] \n",
        "x_train, y_train = load_and_prep_train(pickle_dirs, x_column=output_layer_name)"
      ],
      "execution_count": null,
      "outputs": [
        {
          "output_type": "stream",
          "text": [
            "Dataset at /content/drive/My Drive/data_Yonathan/train_0k has 1000 instances.\n",
            "Dataset at /content/drive/My Drive/data_Yonathan/train_1k has 1000 instances.\n",
            "Dataset at /content/drive/My Drive/data_Yonathan/train_2k has 1000 instances.\n",
            "Dataset at /content/drive/My Drive/data_Yonathan/train_3k has 998 instances.\n",
            "Dataset at /content/drive/My Drive/data_Yonathan/train_4k has 1000 instances.\n",
            "Dataset at /content/drive/My Drive/data_Yonathan/train_5k has 1000 instances.\n",
            "Dataset at /content/drive/My Drive/data_Yonathan/train_6k has 1000 instances.\n",
            "Dataset at /content/drive/My Drive/data_Yonathan/train_7k has 1000 instances.\n",
            "Dataset at /content/drive/My Drive/data_Yonathan/train_0k - hflip has 1000 instances.\n",
            "Dataset at /content/drive/My Drive/data_Yonathan/train_1k - hflip has 1000 instances.\n",
            "Dataset at /content/drive/My Drive/data_Yonathan/train_2k - hflip has 1000 instances.\n",
            "Dataset at /content/drive/My Drive/data_Yonathan/train_3k - hflip has 998 instances.\n",
            "Dataset at /content/drive/My Drive/data_Yonathan/train_4k - hflip has 1000 instances.\n",
            "Dataset at /content/drive/My Drive/data_Yonathan/train_5k - hflip has 1000 instances.\n",
            "Dataset at /content/drive/My Drive/data_Yonathan/train_6k - hflip has 1000 instances.\n",
            "Dataset at /content/drive/My Drive/data_Yonathan/train_7k - hflip has 1000 instances.\n",
            "Dataset at /content/drive/My Drive/data_Yonathan/train_0k - rot15&flip has 1000 instances.\n",
            "Dataset at /content/drive/My Drive/data_Yonathan/train_1k - rot15&flip has 1000 instances.\n",
            "Dataset at /content/drive/My Drive/data_Yonathan/train_2k - rot15&flip has 1000 instances.\n",
            "Dataset at /content/drive/My Drive/data_Yonathan/train_3k - rot15&flip has 998 instances.\n",
            "Dataset at /content/drive/My Drive/data_Yonathan/train_4k - rot15&flip has 1000 instances.\n",
            "Dataset at /content/drive/My Drive/data_Yonathan/train_5k - rot15&flip has 1000 instances.\n",
            "Dataset at /content/drive/My Drive/data_Yonathan/train_6k - rot15&flip has 1000 instances.\n",
            "Dataset at /content/drive/My Drive/data_Yonathan/train_7k - rot15&flip has 1000 instances.\n",
            "Dataset at /content/drive/My Drive/data_Yonathan/train_0k - rot-15 has 1000 instances.\n",
            "Dataset at /content/drive/My Drive/data_Yonathan/train_1k - rot-15 has 1000 instances.\n",
            "Dataset at /content/drive/My Drive/data_Yonathan/train_2k - rot-15 has 1000 instances.\n",
            "Dataset at /content/drive/My Drive/data_Yonathan/train_3k - rot-15 has 998 instances.\n",
            "Dataset at /content/drive/My Drive/data_Yonathan/train_4k - rot-15 has 1000 instances.\n",
            "Dataset at /content/drive/My Drive/data_Yonathan/train_5k - rot-15 has 1000 instances.\n",
            "Dataset at /content/drive/My Drive/data_Yonathan/train_6k - rot-15 has 1000 instances.\n",
            "Dataset at /content/drive/My Drive/data_Yonathan/train_7k - rot-15 has 1000 instances.\n",
            "Dataset at /content/drive/My Drive/data_Yonathan/validation_0k has 1000 instances.\n",
            "Dataset at /content/drive/My Drive/data_Yonathan/validation_0k - hflip has 1000 instances.\n",
            "Dataset at /content/drive/My Drive/data_Yonathan/validation_0k - rot-15 has 1000 instances.\n",
            "Dataset at /content/drive/My Drive/data_Yonathan/validation_0k - rot15&flip has 1000 instances.\n"
          ],
          "name": "stdout"
        }
      ]
    },
    {
      "cell_type": "markdown",
      "metadata": {
        "id": "dhUaxM-iWZHH",
        "colab_type": "text"
      },
      "source": [
        "# **Model**"
      ]
    },
    {
      "cell_type": "code",
      "metadata": {
        "id": "CqnlkVh_ghI_",
        "colab_type": "code",
        "colab": {}
      },
      "source": [
        "def get_head_model(x_val,\n",
        "                   dropout):\n",
        "  assert x_val.shape[1] == 7, f'Notice input shape: {x_val[0, :, :, :].shape}'\n",
        "  cur_block_number = int((x_val.shape[3] - 544) / 32) + 1\n",
        "  print(f'Identified as block number {cur_block_number}, with shape {x_val[0, :, :, :].shape}')\n",
        "  def one_block(x, block_number):\n",
        "    original_x = keras.layers.Lambda(lambda y: y)(x)\n",
        "    x = keras.layers.BatchNormalization(name=f'conv5_block{block_number}_0_bn')(x)\n",
        "    x = keras.layers.Activation('relu', name=f'conv5_block{block_number}_0_relu')(x)\n",
        "    x = keras.layers.Conv2D(filters=128, kernel_size=(1, 1), name=f'conv5_block{block_number}_1_conv', use_bias=False)(x)\n",
        "    x = keras.layers.Dropout(dropout)(x)\n",
        "    x = keras.layers.BatchNormalization(name=f'conv5_block{block_number}_1_bn')(x)\n",
        "    x = keras.layers.Activation('relu', name=f'conv5_block{block_number}_1_relu')(x)\n",
        "    x = keras.layers.Conv2D(filters=32, kernel_size=(3, 3),padding='same', name=f'conv5_block{block_number}_2_conv', use_bias=False)(x)\n",
        "    x = keras.layers.Dropout(dropout)(x)\n",
        "    return keras.layers.Concatenate(name=f'conv5_block{block_number}_concat')([original_x, x])\n",
        "\n",
        "  model_input = keras.layers.Input((x_val.shape[1],\n",
        "                                    x_val.shape[2],\n",
        "                                    x_val.shape[3]),\n",
        "                                  name=f'conv5_block{cur_block_number}_concat')\n",
        "\n",
        "  x = one_block(model_input, cur_block_number + 1)\n",
        "  for block_number in range(cur_block_number + 2, 17):\n",
        "    x = one_block(x, block_number)\n",
        "\n",
        "  x = keras.layers.BatchNormalization(name='bn')(x)\n",
        "  x = keras.layers.Activation(activation='relu', name='relu')(x)\n",
        "  x = keras.layers.GlobalAveragePooling2D(name='avg_pool')(x)\n",
        "  model_output = keras.layers.Dense(1, activation='sigmoid')(x)\n",
        "\n",
        "  model = keras.models.Model(input=model_input, output=model_output)\n",
        "  #model.summary()\n",
        "\n",
        "  return model"
      ],
      "execution_count": null,
      "outputs": []
    },
    {
      "cell_type": "markdown",
      "metadata": {
        "id": "B6JA35APNWxw",
        "colab_type": "text"
      },
      "source": [
        "# **Training The Model**"
      ]
    },
    {
      "cell_type": "code",
      "metadata": {
        "id": "BjTJChCgNGkx",
        "colab_type": "code",
        "colab": {}
      },
      "source": [
        "dict_params = dict(dropout=0.6,\n",
        "                   validation_split=0.1,\n",
        "                   epochs=100,\n",
        "                   batch_size=64,\n",
        "                   optimizer=keras.optimizers.RMSprop(learning_rate=1e-4))\n",
        "                   #optimizer=keras.optimizers.Adam(learning_rate=0.005))\n"
      ],
      "execution_count": null,
      "outputs": []
    },
    {
      "cell_type": "code",
      "metadata": {
        "id": "zYay2wh3NeXm",
        "colab_type": "code",
        "colab": {}
      },
      "source": [
        "def create_and_train_model(dict_params):\n",
        "  model = get_head_model(x_train, dropout=dict_params['dropout'])\n",
        "  model.compile(optimizer=dict_params['optimizer'],\n",
        "                loss='binary_crossentropy',\n",
        "                metrics=[keras.metrics.AUC(), 'accuracy'])\n",
        "  history = model.fit(x=x_train,\n",
        "                      y=y_train,\n",
        "                      validation_split=dict_params['validation_split'],\n",
        "                      batch_size=dict_params['batch_size'],\n",
        "                      epochs=dict_params['epochs'],\n",
        "                      #callbacks=[keras.callbacks.EarlyStopping(monitor='val_accuracy', mode='max', patience=10)],\n",
        "                      verbose=2)\n",
        "  return history, model"
      ],
      "execution_count": null,
      "outputs": []
    },
    {
      "cell_type": "code",
      "metadata": {
        "id": "toLKCvDMADzt",
        "colab_type": "code",
        "colab": {
          "base_uri": "https://localhost:8080/",
          "height": 1000
        },
        "outputId": "4328dbea-d9f2-449c-d577-b1e2dde9b9c4"
      },
      "source": [
        "history, model = create_and_train_model(dict_params)"
      ],
      "execution_count": null,
      "outputs": [
        {
          "output_type": "stream",
          "text": [
            "Identified as block number 10, with shape (7, 7, 832)\n"
          ],
          "name": "stdout"
        },
        {
          "output_type": "stream",
          "text": [
            "/usr/local/lib/python3.6/dist-packages/ipykernel_launcher.py:32: UserWarning: Update your `Model` call to the Keras 2 API: `Model(inputs=Tensor(\"co..., outputs=Tensor(\"de...)`\n"
          ],
          "name": "stderr"
        },
        {
          "output_type": "stream",
          "text": [
            "Train on 16196 samples, validate on 1800 samples\n",
            "Epoch 1/100\n",
            " - 11s - loss: 0.6925 - auc_5: 0.5219 - accuracy: 0.5132 - val_loss: 0.6925 - val_auc_5: 0.6045 - val_accuracy: 0.5011\n",
            "Epoch 2/100\n",
            " - 10s - loss: 0.6857 - auc_5: 0.5772 - accuracy: 0.5580 - val_loss: 0.6880 - val_auc_5: 0.6267 - val_accuracy: 0.5072\n",
            "Epoch 3/100\n",
            " - 10s - loss: 0.6762 - auc_5: 0.6136 - accuracy: 0.5788 - val_loss: 0.6978 - val_auc_5: 0.6403 - val_accuracy: 0.5028\n",
            "Epoch 4/100\n",
            " - 10s - loss: 0.6649 - auc_5: 0.6363 - accuracy: 0.5947 - val_loss: 0.6875 - val_auc_5: 0.6480 - val_accuracy: 0.5233\n",
            "Epoch 5/100\n",
            " - 10s - loss: 0.6541 - auc_5: 0.6542 - accuracy: 0.6027 - val_loss: 0.7424 - val_auc_5: 0.6610 - val_accuracy: 0.5028\n",
            "Epoch 6/100\n",
            " - 10s - loss: 0.6440 - auc_5: 0.6719 - accuracy: 0.6225 - val_loss: 0.7390 - val_auc_5: 0.6703 - val_accuracy: 0.5056\n",
            "Epoch 7/100\n",
            " - 10s - loss: 0.6349 - auc_5: 0.6850 - accuracy: 0.6299 - val_loss: 0.7350 - val_auc_5: 0.6775 - val_accuracy: 0.5128\n",
            "Epoch 8/100\n",
            " - 10s - loss: 0.6243 - auc_5: 0.6988 - accuracy: 0.6434 - val_loss: 0.7506 - val_auc_5: 0.6893 - val_accuracy: 0.5122\n",
            "Epoch 9/100\n",
            " - 10s - loss: 0.6177 - auc_5: 0.7071 - accuracy: 0.6472 - val_loss: 0.7244 - val_auc_5: 0.6953 - val_accuracy: 0.5244\n",
            "Epoch 10/100\n",
            " - 10s - loss: 0.6074 - auc_5: 0.7206 - accuracy: 0.6583 - val_loss: 0.7436 - val_auc_5: 0.7019 - val_accuracy: 0.5356\n",
            "Epoch 11/100\n",
            " - 10s - loss: 0.6027 - auc_5: 0.7258 - accuracy: 0.6630 - val_loss: 0.7550 - val_auc_5: 0.7045 - val_accuracy: 0.5372\n",
            "Epoch 12/100\n",
            " - 10s - loss: 0.5953 - auc_5: 0.7348 - accuracy: 0.6729 - val_loss: 0.8509 - val_auc_5: 0.7073 - val_accuracy: 0.5239\n",
            "Epoch 13/100\n",
            " - 10s - loss: 0.5907 - auc_5: 0.7399 - accuracy: 0.6752 - val_loss: 0.9078 - val_auc_5: 0.7094 - val_accuracy: 0.5183\n",
            "Epoch 14/100\n",
            " - 10s - loss: 0.5879 - auc_5: 0.7423 - accuracy: 0.6752 - val_loss: 0.8989 - val_auc_5: 0.7137 - val_accuracy: 0.5222\n",
            "Epoch 15/100\n",
            " - 10s - loss: 0.5857 - auc_5: 0.7449 - accuracy: 0.6834 - val_loss: 0.8034 - val_auc_5: 0.7163 - val_accuracy: 0.5461\n",
            "Epoch 16/100\n",
            " - 10s - loss: 0.5781 - auc_5: 0.7537 - accuracy: 0.6850 - val_loss: 0.7873 - val_auc_5: 0.7177 - val_accuracy: 0.5633\n",
            "Epoch 17/100\n",
            " - 10s - loss: 0.5773 - auc_5: 0.7552 - accuracy: 0.6865 - val_loss: 0.7896 - val_auc_5: 0.7225 - val_accuracy: 0.5528\n",
            "Epoch 18/100\n",
            " - 10s - loss: 0.5715 - auc_5: 0.7616 - accuracy: 0.6938 - val_loss: 0.8577 - val_auc_5: 0.7211 - val_accuracy: 0.5556\n",
            "Epoch 19/100\n",
            " - 10s - loss: 0.5716 - auc_5: 0.7607 - accuracy: 0.6887 - val_loss: 0.7353 - val_auc_5: 0.7250 - val_accuracy: 0.5978\n",
            "Epoch 20/100\n",
            " - 10s - loss: 0.5647 - auc_5: 0.7668 - accuracy: 0.6961 - val_loss: 1.0827 - val_auc_5: 0.7237 - val_accuracy: 0.5522\n",
            "Epoch 21/100\n",
            " - 10s - loss: 0.5613 - auc_5: 0.7699 - accuracy: 0.6974 - val_loss: 0.6638 - val_auc_5: 0.7281 - val_accuracy: 0.6594\n",
            "Epoch 22/100\n",
            " - 10s - loss: 0.5553 - auc_5: 0.7778 - accuracy: 0.7046 - val_loss: 0.8058 - val_auc_5: 0.7271 - val_accuracy: 0.6178\n",
            "Epoch 23/100\n",
            " - 10s - loss: 0.5511 - auc_5: 0.7818 - accuracy: 0.7107 - val_loss: 0.6879 - val_auc_5: 0.7296 - val_accuracy: 0.6528\n",
            "Epoch 24/100\n",
            " - 10s - loss: 0.5525 - auc_5: 0.7800 - accuracy: 0.7076 - val_loss: 0.9527 - val_auc_5: 0.7276 - val_accuracy: 0.5861\n",
            "Epoch 25/100\n",
            " - 10s - loss: 0.5495 - auc_5: 0.7820 - accuracy: 0.7071 - val_loss: 0.7102 - val_auc_5: 0.7264 - val_accuracy: 0.6556\n",
            "Epoch 26/100\n",
            " - 10s - loss: 0.5454 - auc_5: 0.7869 - accuracy: 0.7109 - val_loss: 0.6711 - val_auc_5: 0.7307 - val_accuracy: 0.6617\n",
            "Epoch 27/100\n",
            " - 10s - loss: 0.5414 - auc_5: 0.7914 - accuracy: 0.7167 - val_loss: 0.7022 - val_auc_5: 0.7320 - val_accuracy: 0.6639\n",
            "Epoch 28/100\n",
            " - 10s - loss: 0.5402 - auc_5: 0.7927 - accuracy: 0.7173 - val_loss: 0.7588 - val_auc_5: 0.7339 - val_accuracy: 0.6517\n",
            "Epoch 29/100\n",
            " - 10s - loss: 0.5369 - auc_5: 0.7949 - accuracy: 0.7178 - val_loss: 0.7366 - val_auc_5: 0.7347 - val_accuracy: 0.6639\n",
            "Epoch 30/100\n",
            " - 10s - loss: 0.5335 - auc_5: 0.7976 - accuracy: 0.7188 - val_loss: 0.7190 - val_auc_5: 0.7347 - val_accuracy: 0.6661\n",
            "Epoch 31/100\n",
            " - 10s - loss: 0.5343 - auc_5: 0.7977 - accuracy: 0.7246 - val_loss: 0.7491 - val_auc_5: 0.7308 - val_accuracy: 0.6700\n",
            "Epoch 32/100\n",
            " - 10s - loss: 0.5273 - auc_5: 0.8045 - accuracy: 0.7283 - val_loss: 1.0213 - val_auc_5: 0.7323 - val_accuracy: 0.6211\n",
            "Epoch 33/100\n",
            " - 10s - loss: 0.5281 - auc_5: 0.8031 - accuracy: 0.7277 - val_loss: 1.6727 - val_auc_5: 0.7150 - val_accuracy: 0.5611\n",
            "Epoch 34/100\n",
            " - 10s - loss: 0.5215 - auc_5: 0.8091 - accuracy: 0.7280 - val_loss: 0.9317 - val_auc_5: 0.7352 - val_accuracy: 0.6383\n",
            "Epoch 35/100\n",
            " - 10s - loss: 0.5155 - auc_5: 0.8145 - accuracy: 0.7328 - val_loss: 0.7959 - val_auc_5: 0.7375 - val_accuracy: 0.6622\n",
            "Epoch 36/100\n",
            " - 10s - loss: 0.5163 - auc_5: 0.8150 - accuracy: 0.7366 - val_loss: 1.3927 - val_auc_5: 0.7215 - val_accuracy: 0.5922\n",
            "Epoch 37/100\n",
            " - 10s - loss: 0.5139 - auc_5: 0.8166 - accuracy: 0.7357 - val_loss: 0.9017 - val_auc_5: 0.7375 - val_accuracy: 0.6372\n",
            "Epoch 38/100\n",
            " - 10s - loss: 0.5107 - auc_5: 0.8190 - accuracy: 0.7422 - val_loss: 0.8084 - val_auc_5: 0.7377 - val_accuracy: 0.6700\n",
            "Epoch 39/100\n",
            " - 10s - loss: 0.5089 - auc_5: 0.8203 - accuracy: 0.7414 - val_loss: 1.3149 - val_auc_5: 0.7231 - val_accuracy: 0.6072\n",
            "Epoch 40/100\n",
            " - 10s - loss: 0.5073 - auc_5: 0.8219 - accuracy: 0.7435 - val_loss: 0.8082 - val_auc_5: 0.7328 - val_accuracy: 0.6600\n",
            "Epoch 41/100\n",
            " - 10s - loss: 0.5044 - auc_5: 0.8240 - accuracy: 0.7428 - val_loss: 0.9699 - val_auc_5: 0.7330 - val_accuracy: 0.6578\n",
            "Epoch 42/100\n",
            " - 10s - loss: 0.5025 - auc_5: 0.8256 - accuracy: 0.7469 - val_loss: 1.0020 - val_auc_5: 0.7332 - val_accuracy: 0.6389\n",
            "Epoch 43/100\n",
            " - 10s - loss: 0.4935 - auc_5: 0.8334 - accuracy: 0.7499 - val_loss: 0.8642 - val_auc_5: 0.7396 - val_accuracy: 0.6750\n",
            "Epoch 44/100\n",
            " - 10s - loss: 0.4927 - auc_5: 0.8340 - accuracy: 0.7541 - val_loss: 0.8378 - val_auc_5: 0.7370 - val_accuracy: 0.6694\n",
            "Epoch 45/100\n",
            " - 10s - loss: 0.4962 - auc_5: 0.8321 - accuracy: 0.7525 - val_loss: 1.2556 - val_auc_5: 0.7279 - val_accuracy: 0.6239\n",
            "Epoch 46/100\n",
            " - 10s - loss: 0.4903 - auc_5: 0.8365 - accuracy: 0.7560 - val_loss: 1.9245 - val_auc_5: 0.7045 - val_accuracy: 0.5617\n",
            "Epoch 47/100\n",
            " - 10s - loss: 0.4907 - auc_5: 0.8360 - accuracy: 0.7532 - val_loss: 0.9190 - val_auc_5: 0.7385 - val_accuracy: 0.6700\n",
            "Epoch 48/100\n",
            " - 10s - loss: 0.4810 - auc_5: 0.8438 - accuracy: 0.7609 - val_loss: 1.1456 - val_auc_5: 0.7311 - val_accuracy: 0.6289\n",
            "Epoch 49/100\n",
            " - 10s - loss: 0.4842 - auc_5: 0.8412 - accuracy: 0.7599 - val_loss: 0.9231 - val_auc_5: 0.7390 - val_accuracy: 0.6650\n",
            "Epoch 50/100\n",
            " - 10s - loss: 0.4792 - auc_5: 0.8457 - accuracy: 0.7602 - val_loss: 1.1908 - val_auc_5: 0.7306 - val_accuracy: 0.6372\n",
            "Epoch 51/100\n",
            " - 10s - loss: 0.4743 - auc_5: 0.8489 - accuracy: 0.7701 - val_loss: 0.8660 - val_auc_5: 0.7406 - val_accuracy: 0.6750\n",
            "Epoch 52/100\n",
            " - 10s - loss: 0.4769 - auc_5: 0.8467 - accuracy: 0.7656 - val_loss: 0.9752 - val_auc_5: 0.7399 - val_accuracy: 0.6639\n",
            "Epoch 53/100\n",
            " - 10s - loss: 0.4725 - auc_5: 0.8499 - accuracy: 0.7688 - val_loss: 0.9242 - val_auc_5: 0.7396 - val_accuracy: 0.6744\n",
            "Epoch 54/100\n",
            " - 10s - loss: 0.4724 - auc_5: 0.8495 - accuracy: 0.7666 - val_loss: 0.8668 - val_auc_5: 0.7389 - val_accuracy: 0.6767\n",
            "Epoch 55/100\n",
            " - 10s - loss: 0.4693 - auc_5: 0.8521 - accuracy: 0.7691 - val_loss: 0.8962 - val_auc_5: 0.7406 - val_accuracy: 0.6722\n",
            "Epoch 56/100\n",
            " - 10s - loss: 0.4673 - auc_5: 0.8549 - accuracy: 0.7712 - val_loss: 1.0147 - val_auc_5: 0.7328 - val_accuracy: 0.6489\n",
            "Epoch 57/100\n",
            " - 10s - loss: 0.4609 - auc_5: 0.8583 - accuracy: 0.7774 - val_loss: 1.0393 - val_auc_5: 0.7306 - val_accuracy: 0.6361\n",
            "Epoch 58/100\n",
            " - 10s - loss: 0.4579 - auc_5: 0.8599 - accuracy: 0.7759 - val_loss: 1.0693 - val_auc_5: 0.7333 - val_accuracy: 0.6467\n",
            "Epoch 59/100\n",
            " - 10s - loss: 0.4562 - auc_5: 0.8622 - accuracy: 0.7785 - val_loss: 0.9865 - val_auc_5: 0.7388 - val_accuracy: 0.6756\n",
            "Epoch 60/100\n",
            " - 10s - loss: 0.4505 - auc_5: 0.8664 - accuracy: 0.7811 - val_loss: 1.4326 - val_auc_5: 0.7233 - val_accuracy: 0.6156\n",
            "Epoch 61/100\n",
            " - 10s - loss: 0.4535 - auc_5: 0.8643 - accuracy: 0.7805 - val_loss: 1.2452 - val_auc_5: 0.7297 - val_accuracy: 0.6578\n",
            "Epoch 62/100\n",
            " - 10s - loss: 0.4497 - auc_5: 0.8662 - accuracy: 0.7835 - val_loss: 1.2211 - val_auc_5: 0.7300 - val_accuracy: 0.6333\n",
            "Epoch 63/100\n",
            " - 10s - loss: 0.4480 - auc_5: 0.8680 - accuracy: 0.7823 - val_loss: 1.6659 - val_auc_5: 0.7207 - val_accuracy: 0.6044\n",
            "Epoch 64/100\n",
            " - 10s - loss: 0.4449 - auc_5: 0.8702 - accuracy: 0.7856 - val_loss: 1.4020 - val_auc_5: 0.7310 - val_accuracy: 0.6428\n",
            "Epoch 65/100\n",
            " - 10s - loss: 0.4389 - auc_5: 0.8732 - accuracy: 0.7888 - val_loss: 0.9801 - val_auc_5: 0.7386 - val_accuracy: 0.6833\n",
            "Epoch 66/100\n",
            " - 10s - loss: 0.4395 - auc_5: 0.8730 - accuracy: 0.7895 - val_loss: 1.1923 - val_auc_5: 0.7275 - val_accuracy: 0.6389\n",
            "Epoch 67/100\n",
            " - 10s - loss: 0.4347 - auc_5: 0.8762 - accuracy: 0.7932 - val_loss: 1.6790 - val_auc_5: 0.7130 - val_accuracy: 0.6139\n",
            "Epoch 68/100\n",
            " - 10s - loss: 0.4394 - auc_5: 0.8734 - accuracy: 0.7922 - val_loss: 3.2816 - val_auc_5: 0.6399 - val_accuracy: 0.5311\n",
            "Epoch 69/100\n",
            " - 10s - loss: 0.4250 - auc_5: 0.8817 - accuracy: 0.7986 - val_loss: 1.1378 - val_auc_5: 0.7403 - val_accuracy: 0.6822\n",
            "Epoch 70/100\n",
            " - 10s - loss: 0.4271 - auc_5: 0.8808 - accuracy: 0.7948 - val_loss: 1.4739 - val_auc_5: 0.7245 - val_accuracy: 0.6244\n",
            "Epoch 71/100\n",
            " - 10s - loss: 0.4305 - auc_5: 0.8793 - accuracy: 0.7967 - val_loss: 1.1809 - val_auc_5: 0.7287 - val_accuracy: 0.6344\n",
            "Epoch 72/100\n",
            " - 10s - loss: 0.4268 - auc_5: 0.8814 - accuracy: 0.7950 - val_loss: 1.1355 - val_auc_5: 0.7366 - val_accuracy: 0.6750\n",
            "Epoch 73/100\n",
            " - 10s - loss: 0.4207 - auc_5: 0.8854 - accuracy: 0.8011 - val_loss: 1.2182 - val_auc_5: 0.7321 - val_accuracy: 0.6717\n",
            "Epoch 74/100\n",
            " - 10s - loss: 0.4156 - auc_5: 0.8882 - accuracy: 0.8032 - val_loss: 1.0387 - val_auc_5: 0.7352 - val_accuracy: 0.6683\n",
            "Epoch 75/100\n",
            " - 10s - loss: 0.4169 - auc_5: 0.8880 - accuracy: 0.8053 - val_loss: 1.2502 - val_auc_5: 0.7332 - val_accuracy: 0.6633\n",
            "Epoch 76/100\n",
            " - 10s - loss: 0.4147 - auc_5: 0.8893 - accuracy: 0.8094 - val_loss: 1.3773 - val_auc_5: 0.7216 - val_accuracy: 0.6222\n",
            "Epoch 77/100\n",
            " - 10s - loss: 0.4143 - auc_5: 0.8892 - accuracy: 0.8037 - val_loss: 1.1731 - val_auc_5: 0.7337 - val_accuracy: 0.6800\n",
            "Epoch 78/100\n",
            " - 10s - loss: 0.4079 - auc_5: 0.8929 - accuracy: 0.8083 - val_loss: 2.1064 - val_auc_5: 0.6951 - val_accuracy: 0.5800\n",
            "Epoch 79/100\n",
            " - 10s - loss: 0.4016 - auc_5: 0.8969 - accuracy: 0.8110 - val_loss: 1.3124 - val_auc_5: 0.7249 - val_accuracy: 0.6306\n",
            "Epoch 80/100\n",
            " - 10s - loss: 0.4033 - auc_5: 0.8954 - accuracy: 0.8098 - val_loss: 1.3617 - val_auc_5: 0.7256 - val_accuracy: 0.6278\n",
            "Epoch 81/100\n",
            " - 10s - loss: 0.3962 - auc_5: 0.8998 - accuracy: 0.8152 - val_loss: 1.9214 - val_auc_5: 0.7006 - val_accuracy: 0.5983\n",
            "Epoch 82/100\n",
            " - 10s - loss: 0.3969 - auc_5: 0.8994 - accuracy: 0.8160 - val_loss: 1.3536 - val_auc_5: 0.7305 - val_accuracy: 0.6622\n",
            "Epoch 83/100\n",
            " - 10s - loss: 0.3955 - auc_5: 0.8999 - accuracy: 0.8153 - val_loss: 1.6809 - val_auc_5: 0.7217 - val_accuracy: 0.6372\n",
            "Epoch 84/100\n",
            " - 10s - loss: 0.3956 - auc_5: 0.8996 - accuracy: 0.8163 - val_loss: 1.4832 - val_auc_5: 0.7205 - val_accuracy: 0.6389\n",
            "Epoch 85/100\n",
            " - 10s - loss: 0.3886 - auc_5: 0.9037 - accuracy: 0.8198 - val_loss: 1.2386 - val_auc_5: 0.7318 - val_accuracy: 0.6533\n",
            "Epoch 86/100\n",
            " - 10s - loss: 0.3867 - auc_5: 0.9043 - accuracy: 0.8188 - val_loss: 2.6729 - val_auc_5: 0.6669 - val_accuracy: 0.5656\n",
            "Epoch 87/100\n",
            " - 10s - loss: 0.3837 - auc_5: 0.9066 - accuracy: 0.8238 - val_loss: 1.8274 - val_auc_5: 0.7169 - val_accuracy: 0.6317\n",
            "Epoch 88/100\n",
            " - 10s - loss: 0.3840 - auc_5: 0.9063 - accuracy: 0.8261 - val_loss: 1.5341 - val_auc_5: 0.7194 - val_accuracy: 0.6222\n",
            "Epoch 89/100\n",
            " - 10s - loss: 0.3878 - auc_5: 0.9040 - accuracy: 0.8210 - val_loss: 1.1770 - val_auc_5: 0.7389 - val_accuracy: 0.6761\n",
            "Epoch 90/100\n",
            " - 10s - loss: 0.3811 - auc_5: 0.9073 - accuracy: 0.8252 - val_loss: 1.8597 - val_auc_5: 0.7068 - val_accuracy: 0.6078\n",
            "Epoch 91/100\n",
            " - 10s - loss: 0.3770 - auc_5: 0.9099 - accuracy: 0.8268 - val_loss: 1.7374 - val_auc_5: 0.7121 - val_accuracy: 0.6156\n",
            "Epoch 92/100\n",
            " - 10s - loss: 0.3759 - auc_5: 0.9106 - accuracy: 0.8277 - val_loss: 1.5841 - val_auc_5: 0.7213 - val_accuracy: 0.6167\n",
            "Epoch 93/100\n",
            " - 10s - loss: 0.3707 - auc_5: 0.9134 - accuracy: 0.8330 - val_loss: 1.2440 - val_auc_5: 0.7317 - val_accuracy: 0.6661\n",
            "Epoch 94/100\n",
            " - 10s - loss: 0.3735 - auc_5: 0.9116 - accuracy: 0.8267 - val_loss: 1.3185 - val_auc_5: 0.7290 - val_accuracy: 0.6483\n",
            "Epoch 95/100\n",
            " - 10s - loss: 0.3711 - auc_5: 0.9127 - accuracy: 0.8321 - val_loss: 1.2378 - val_auc_5: 0.7295 - val_accuracy: 0.6622\n",
            "Epoch 96/100\n",
            " - 10s - loss: 0.3644 - auc_5: 0.9163 - accuracy: 0.8340 - val_loss: 1.3457 - val_auc_5: 0.7306 - val_accuracy: 0.6306\n",
            "Epoch 97/100\n",
            " - 10s - loss: 0.3645 - auc_5: 0.9162 - accuracy: 0.8356 - val_loss: 1.1689 - val_auc_5: 0.7351 - val_accuracy: 0.6617\n",
            "Epoch 98/100\n",
            " - 10s - loss: 0.3629 - auc_5: 0.9169 - accuracy: 0.8350 - val_loss: 1.2218 - val_auc_5: 0.7347 - val_accuracy: 0.6750\n",
            "Epoch 99/100\n",
            " - 10s - loss: 0.3600 - auc_5: 0.9181 - accuracy: 0.8383 - val_loss: 1.3229 - val_auc_5: 0.7318 - val_accuracy: 0.6556\n",
            "Epoch 100/100\n",
            " - 10s - loss: 0.3540 - auc_5: 0.9213 - accuracy: 0.8391 - val_loss: 2.2883 - val_auc_5: 0.6859 - val_accuracy: 0.5833\n"
          ],
          "name": "stdout"
        }
      ]
    },
    {
      "cell_type": "code",
      "metadata": {
        "id": "3Y8FXUoaQgu0",
        "colab_type": "code",
        "colab": {
          "base_uri": "https://localhost:8080/",
          "height": 300
        },
        "outputId": "6a1fd404-336c-446b-d216-65d838f5e66a"
      },
      "source": [
        "plt.plot(history.history['auc_5'], label='auc')\n",
        "plt.plot(history.history['accuracy'], label='accuracy')\n",
        "plt.plot(history.history['val_auc_5'], label='val_auc')\n",
        "plt.plot(history.history['val_accuracy'], label='val_accuracy')\n",
        "#plt.plot(history.history['val_loss'], label='val_loss')\n",
        "plt.legend()\n",
        "plt.grid()\n",
        "plt.ylim((0,1))\n",
        "plt.xlabel('epochs')"
      ],
      "execution_count": null,
      "outputs": [
        {
          "output_type": "execute_result",
          "data": {
            "text/plain": [
              "Text(0.5, 0, 'epochs')"
            ]
          },
          "metadata": {
            "tags": []
          },
          "execution_count": 35
        },
        {
          "output_type": "display_data",
          "data": {
            "image/png": "[encoded data removed]",
            "text/plain": [
              "<Figure size 432x288 with 1 Axes>"
            ]
          },
          "metadata": {
            "tags": [],
            "needs_background": "light"
          }
        }
      ]
    },
    {
      "cell_type": "code",
      "metadata": {
        "id": "PUNL7d0teKLp",
        "colab_type": "code",
        "colab": {
          "base_uri": "https://localhost:8080/",
          "height": 299
        },
        "outputId": "14fede49-c69e-49b2-aa52-0d10eda57b51"
      },
      "source": [
        "plt.plot(history.history['val_loss'], label='val_loss')\n",
        "plt.plot(history.history['loss'], label='loss')\n",
        "plt.legend()\n",
        "plt.grid()\n",
        "plt.xlabel('epochs')"
      ],
      "execution_count": null,
      "outputs": [
        {
          "output_type": "execute_result",
          "data": {
            "text/plain": [
              "Text(0.5, 0, 'epochs')"
            ]
          },
          "metadata": {
            "tags": []
          },
          "execution_count": 60
        },
        {
          "output_type": "display_data",
          "data": {
            "image/png": "[encoded data removed]",
            "text/plain": [
              "<Figure size 432x288 with 1 Axes>"
            ]
          },
          "metadata": {
            "tags": [],
            "needs_background": "light"
          }
        }
      ]
    },
    {
      "cell_type": "code",
      "metadata": {
        "id": "9hhBH3O_le8y",
        "colab_type": "code",
        "colab": {
          "base_uri": "https://localhost:8080/",
          "height": 34
        },
        "outputId": "512c3b2d-a4ef-497c-a3aa-0f41bbefa290"
      },
      "source": [
        "model_json = model.to_json()\n",
        "with open(data_dir + \"simple_head_model - exp 3.json\", \"w\") as json_file:\n",
        "    json_file.write(model_json)\n",
        "# serialize weights to HDF5\n",
        "model.save_weights(data_dir + \"simple_head_model - exp 3.h5\")\n",
        "print(\"Saved model to disk\")"
      ],
      "execution_count": null,
      "outputs": [
        {
          "output_type": "stream",
          "text": [
            "Saved model to disk\n"
          ],
          "name": "stdout"
        }
      ]
    },
    {
      "cell_type": "code",
      "metadata": {
        "id": "3Ec7Fi-VMnHG",
        "colab_type": "code",
        "colab": {}
      },
      "source": [
        ""
      ],
      "execution_count": null,
      "outputs": []
    }
  ]
}